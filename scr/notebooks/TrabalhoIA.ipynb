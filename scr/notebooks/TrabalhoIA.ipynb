{
 "cells": [
  {
   "cell_type": "markdown",
   "id": "991e781c",
   "metadata": {},
   "source": [
    "## Trabalho de IA - Previsão de Churn e Segmentação de Clientes em Telecom"
   ]
  },
  {
   "cell_type": "markdown",
   "id": "97d699c5",
   "metadata": {},
   "source": [
    "### 4.1 Etapa 1: Coleta, Limpeza e EDA\n",
    "1. Importar o CSV no Pandas, verificar estatísticas básicas (.describe(), .info())."
   ]
  },
  {
   "cell_type": "code",
   "execution_count": null,
   "id": "f3724a99",
   "metadata": {},
   "outputs": [
    {
     "name": "stdout",
     "output_type": "stream",
     "text": [
      "Erro ao importar o dataset: [Errno 2] No such file or directory: 'scr/data/archive/WA_Fn-UseC_-Telco-Customer-Churn.csv'\n"
     ]
    },
    {
     "ename": "",
     "evalue": "",
     "output_type": "error",
     "traceback": [
      "\u001b[1;31mThe Kernel crashed while executing code in the current cell or a previous cell. \n",
      "\u001b[1;31mPlease review the code in the cell(s) to identify a possible cause of the failure. \n",
      "\u001b[1;31mClick <a href='https://aka.ms/vscodeJupyterKernelCrash'>here</a> for more info. \n",
      "\u001b[1;31mView Jupyter <a href='command:jupyter.viewOutput'>log</a> for further details."
     ]
    }
   ],
   "source": [
    "# 1. Importar Pandas e Numpy e em seguida importar o CSV no Pandas\n",
    "\n",
    "import pandas as pd\n",
    "import numpy as np\n",
    "\n",
    "try:\n",
    "    df = pd.read_csv(\"scr/data/WA_Fn-UseC_-Telco-Customer-Churn.csv\")\n",
    "except Exception as e:\n",
    "    print(f\"Erro ao importar o dataset: {e}\")\n",
    "    exit()"
   ]
  }
 ],
 "metadata": {
  "kernelspec": {
   "display_name": "Python 3",
   "language": "python",
   "name": "python3"
  },
  "language_info": {
   "codemirror_mode": {
    "name": "ipython",
    "version": 3
   },
   "file_extension": ".py",
   "mimetype": "text/x-python",
   "name": "python",
   "nbconvert_exporter": "python",
   "pygments_lexer": "ipython3",
   "version": "3.11.9"
  }
 },
 "nbformat": 4,
 "nbformat_minor": 5
}
