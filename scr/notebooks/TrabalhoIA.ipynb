{
 "cells": [
  {
   "cell_type": "markdown",
   "id": "991e781c",
   "metadata": {},
   "source": [
    "## Trabalho de IA - Previsão de Churn e Segmentação de Clientes em Telecom"
   ]
  },
  {
   "cell_type": "markdown",
   "id": "97d699c5",
   "metadata": {},
   "source": [
    "### 4.1 Etapa 1: Coleta, Limpeza e EDA\n",
    "1. Importar o CSV no Pandas, verificar estatísticas básicas (.describe(), .info())."
   ]
  },
  {
   "cell_type": "code",
   "execution_count": null,
   "id": "f3724a99",
   "metadata": {},
   "outputs": [],
   "source": [
    "# 1. Importar Pandas "
   ]
  }
 ],
 "metadata": {
  "language_info": {
   "name": "python"
  }
 },
 "nbformat": 4,
 "nbformat_minor": 5
}
