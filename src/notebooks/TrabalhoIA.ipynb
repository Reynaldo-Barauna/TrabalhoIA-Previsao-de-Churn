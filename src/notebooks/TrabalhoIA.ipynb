{
 "cells": [
  {
   "cell_type": "markdown",
   "id": "991e781c",
   "metadata": {},
   "source": [
    "## Trabalho de IA - Previsão de Churn e Segmentação de Clientes em Telecom"
   ]
  },
  {
   "cell_type": "markdown",
   "id": "97d699c5",
   "metadata": {},
   "source": [
    "### 4.1 Etapa 1: Coleta, Limpeza e EDA\n",
    "1. Importar o CSV no Pandas, verificar estatísticas básicas (.describe(), .info())."
   ]
  },
  {
   "cell_type": "code",
   "execution_count": null,
   "id": "f3724a99",
   "metadata": {},
   "outputs": [],
   "source": [
    "# 1. Importar Pandas e Numpy e em seguida importar o CSV no Pandas\n",
    "\n",
    "import pandas as pd\n",
    "\n",
    "try:\n",
    "    df = pd.read_csv(\"../data/WA_Fn-UseC_-Telco-Customer-Churn.csv\")\n",
    "except Exception as e:\n",
    "    print(f\"Erro ao importar o dataset: {e}\")\n",
    "    exit()\n",
    "\n",
    "df.head()"
   ]
  },
  {
   "cell_type": "code",
   "execution_count": null,
   "id": "8752bce2",
   "metadata": {},
   "outputs": [],
   "source": [
    "# Verificar estatísticas\n",
    "print(\"\\n Informações do DataFrame (.info()) \")\n",
    "df.info()"
   ]
  },
  {
   "cell_type": "code",
   "execution_count": null,
   "id": "3fbe988d",
   "metadata": {},
   "outputs": [],
   "source": [
    "print(\"\\n Estatísticas Descritivas (.describe()) \")\n",
    "# Incluir colunas de objetos para uma visão mais completa\n",
    "df.describe(include='all')"
   ]
  },
  {
   "cell_type": "markdown",
   "id": "fabea903",
   "metadata": {},
   "source": [
    " 2. Tratar valores faltantes e inconsistências"
   ]
  },
  {
   "cell_type": "code",
   "execution_count": null,
   "id": "d835f119",
   "metadata": {},
   "outputs": [],
   "source": [
    "# A coluna 'TotalCharges' é do tipo 'object'(string) mas deveria ser numérica.\n",
    "# Pode haver espaços em branco que precisam ser tratados e convertidos para numérico.\n",
    "\n",
    "print(\"\\n Verificando valores únicos em colunas categóricas \")\n",
    "for column in df.columns:\n",
    "    if df[column].dtype == 'object':\n",
    "        print(f\"\\nColuna '{column}':\")\n",
    "        print(df[column].value_counts())"
   ]
  },
  {
   "cell_type": "code",
   "execution_count": null,
   "id": "045b11bd",
   "metadata": {},
   "outputs": [],
   "source": [
    "# Tratamento da coluna 'TotalCharges'\n",
    "# Convertendo 'TotalCharges' para numérico, tratando erros com 'coerce' (transforma em NaN)\n",
    "print(\"\\n Tratando a coluna 'TotalCharges' \")\n",
    "df['TotalCharges'] = pd.to_numeric(df['TotalCharges'], errors='coerce')\n",
    "\n",
    "print(df['TotalCharges'])"
   ]
  },
  {
   "cell_type": "code",
   "execution_count": null,
   "id": "b59eeaa3",
   "metadata": {},
   "outputs": [],
   "source": [
    "# Preencher valores faltantes na coluna 'TotalCharges'\n",
    "# Para esses caso, vamos preencher com 0, pois representa novos clientes.\n",
    "df['TotalCharges'].fillna(0, inplace=True)"
   ]
  },
  {
   "cell_type": "code",
   "execution_count": null,
   "id": "749011c8",
   "metadata": {},
   "outputs": [],
   "source": [
    "# Verificação final de valores faltantes\n",
    "print(\"\\n Verificação final de valores faltantes \")\n",
    "print(df.isnull().sum())"
   ]
  },
  {
   "cell_type": "markdown",
   "id": "2b2e6ea1",
   "metadata": {},
   "source": [
    "Tratamento de outras inconsistências (se houver, baseado nas value_counts)\n",
    "Exemplo: Se 'No phone service' ou 'No internet service' fossem tratados de forma diferente ou se houvesse algum erro de digitação. No dataset Telco Churn, essas são categorias válidas."
   ]
  },
  {
   "cell_type": "code",
   "execution_count": null,
   "id": "c0d08115",
   "metadata": {},
   "outputs": [],
   "source": [
    "# Convertendo a coluna 'Churn' para valores binários (0 e 1)\n",
    "print(\"\\n Convertendo 'Churn' para valores binários (0 e 1) \")\n",
    "df['Churn'] = df['Churn'].map({'Yes': 1, 'No': 0})\n",
    "print(df['Churn'].value_counts())"
   ]
  },
  {
   "cell_type": "code",
   "execution_count": null,
   "id": "4e079330",
   "metadata": {},
   "outputs": [],
   "source": [
    "print(\"\\n DataFrame após tratamento \")\n",
    "df.info()\n",
    "print(df.describe(include='all'))\n",
    "df.head()"
   ]
  },
  {
   "cell_type": "markdown",
   "id": "dc8513c3",
   "metadata": {},
   "source": [
    "3.  Converter variáveis categóricas via One-Hot Encoding"
   ]
  },
  {
   "cell_type": "code",
   "execution_count": null,
   "id": "50432a11",
   "metadata": {},
   "outputs": [],
   "source": [
    "print(\"\\n Realizando One-Hot Encoding em variáveis categóricas \")\n",
    "\n",
    "# Identificar colunas categóricas para OneHot Encoding\n",
    "# Excluímos 'customerID' porque é um identificador e 'Churn' porque já foi convertida para numérica.\n",
    "categorical_cols = [col for col in df.columns if df[col].dtype == 'object' and col != 'customerID']"
   ]
  },
  {
   "cell_type": "code",
   "execution_count": null,
   "id": "ee76b464",
   "metadata": {},
   "outputs": [],
   "source": [
    "# Aplicar One-Hot Encoding usando pd.get_dummies\n",
    "# 'drop_first=True' é usado para evitar a armadilha da variável dummy, removendo a primeira categoria de cada coluna.\n",
    "df = pd.get_dummies(df, columns=categorical_cols, drop_first=True)\n"
   ]
  },
  {
   "cell_type": "code",
   "execution_count": null,
   "id": "61ac845b",
   "metadata": {},
   "outputs": [],
   "source": [
    "#Após a utilização do OneHot Enconding, pegaremos as colunas do tipo booleano e convertemos e converteremos para colunas numéricas.\n",
    "\n",
    "print(\"\\n Convertendo colunas booleanas (True/False) para 0 e 1 \")\n",
    "for column in df.columns:\n",
    "    if df[column].dtype == bool:\n",
    "        df[column] = df[column].astype(int)\n",
    "        print(f\"Coluna '{column}' convertida de booleano para int (0/1).\")\n",
    "\n",
    "print(\"\\n DataFrame após OneHot Encoding \")\n",
    "df.head()"
   ]
  },
  {
   "cell_type": "code",
   "execution_count": null,
   "id": "467d8021",
   "metadata": {},
   "outputs": [],
   "source": [
    "df.info()\n",
    "print(df.describe(include='all'))"
   ]
  },
  {
   "cell_type": "markdown",
   "id": "a19d484e",
   "metadata": {},
   "source": [
    "4. Escalonar variáveis numéricas com StandardScaler"
   ]
  },
  {
   "cell_type": "code",
   "execution_count": null,
   "id": "d2c61efe",
   "metadata": {},
   "outputs": [],
   "source": [
    "print(\"\\n Escalonando variáveis numéricas com StandardScaler \")\n",
    "\n",
    "# Identificar colunas numéricas para escalonar\n",
    "# Excluímos 'customerID' (identificador) e 'Churn' (variável alvo).\n",
    "# Colunas que já são binárias (0/1) após o One-Hot Encoding não precisam estritamente de escalonamento,\n",
    "# mas o StandardScaler as tratará, resultando em valores -1 ou 1 (aproximadamente) se houver apenas duas categorias,\n",
    "# ou 0 se forem todas iguais.\n",
    "numerical_cols = [col for col in df.columns if df[col].dtype in ['int64', 'float64'] and col not in ['customerID', 'Churn']]"
   ]
  },
  {
   "cell_type": "code",
   "execution_count": null,
   "id": "1698d57f",
   "metadata": {},
   "outputs": [],
   "source": [
    "from sklearn.preprocessing import StandardScaler\n",
    "\n",
    "# Inicializar o StandardScaler\n",
    "scaler = StandardScaler()"
   ]
  },
  {
   "cell_type": "code",
   "execution_count": null,
   "id": "5d39e5fb",
   "metadata": {},
   "outputs": [],
   "source": [
    "# Aplicar o escalonamento nas colunas numéricas selecionadas\n",
    "# O fit_transform retorna um array NumPy\n",
    "df[numerical_cols] = scaler.fit_transform(df[numerical_cols])"
   ]
  },
  {
   "cell_type": "code",
   "execution_count": null,
   "id": "536603f4",
   "metadata": {},
   "outputs": [],
   "source": [
    "print(\"\\n DataFrame após Escalonamento com StandardScaler \")\n",
    "df.info()\n",
    "print(df.describe(include='all'))\n",
    "df.head()"
   ]
  },
  {
   "cell_type": "markdown",
   "id": "ebaa503b",
   "metadata": {},
   "source": [
    "5. Gerar gráficos exploratórios (histogramas, boxplots, matrizes de correlação)"
   ]
  },
  {
   "cell_type": "code",
   "execution_count": null,
   "id": "bbba50b6",
   "metadata": {},
   "outputs": [],
   "source": [
    "# Para esse passo iremos importar 2 bibliotecas que irão nos auxiliar com a geração dos graficos\n",
    "# As bibliotecas são matplotlib e seaborn, enquanto a matplotlib faz a geração de graficos\n",
    "# A seaborn deixa eles com uma aparencia melhor.\n",
    "\n",
    "import matplotlib.pyplot as plt\n",
    "import seaborn as sns"
   ]
  },
  {
   "cell_type": "code",
   "execution_count": null,
   "id": "2708fb67",
   "metadata": {},
   "outputs": [],
   "source": [
    "# Calcular o número de linhas e colunas para os subplots dinamicamente\n",
    "num_numerical_cols = len(numerical_cols)\n",
    "\n",
    "n_cols = 3  # Número de colunas fixo por linha nos gráficos\n",
    "\n",
    "n_rows = num_numerical_cols // n_cols\n",
    "if num_numerical_cols % n_cols != 0:\n",
    "    n_rows += 1"
   ]
  },
  {
   "cell_type": "markdown",
   "id": "24f136b1",
   "metadata": {},
   "source": [
    "Gerando Histogramas para variáveis numéricas"
   ]
  },
  {
   "cell_type": "code",
   "execution_count": null,
   "id": "731e75cf",
   "metadata": {},
   "outputs": [],
   "source": [
    "plt.figure(figsize=(n_cols * 5, n_rows * 4))\n",
    "for i, col in enumerate(numerical_cols):\n",
    "    plt.subplot(n_rows, n_cols, i + 1)\n",
    "    sns.histplot(df[col], kde=True)\n",
    "    plt.title(f'Histograma de {col}')\n",
    "    plt.xlabel(col)\n",
    "    plt.ylabel('Frequência')\n",
    "plt.tight_layout()\n",
    "plt.show()"
   ]
  },
  {
   "cell_type": "markdown",
   "id": "7e5d0e0f",
   "metadata": {},
   "source": [
    "Boxplot para variáveis numéricas (para identificar outliers e distribuição)"
   ]
  },
  {
   "cell_type": "code",
   "execution_count": null,
   "id": "67f49165",
   "metadata": {},
   "outputs": [],
   "source": [
    "print(\"\\n Gerando Boxplots para variáveis numéricas...\")\n",
    "plt.figure(figsize=(n_cols * 5, n_rows * 4))\n",
    "for i, col in enumerate(numerical_cols):\n",
    "    plt.subplot(n_rows, n_cols, i + 1)\n",
    "    sns.boxplot(y=df[col])\n",
    "    plt.title(f'Boxplot de {col}')\n",
    "    plt.ylabel(col)\n",
    "plt.tight_layout()\n",
    "plt.show()"
   ]
  },
  {
   "cell_type": "markdown",
   "id": "ca482281",
   "metadata": {},
   "source": [
    "Matriz de Correlação"
   ]
  },
  {
   "cell_type": "code",
   "execution_count": null,
   "id": "a1925fbd",
   "metadata": {},
   "outputs": [],
   "source": [
    "# Calculando a matriz de correlação do DataFrame inteiro (já processado)\n",
    "print(\"\\n Gerando Matriz de Correlação...\")\n",
    "plt.figure(figsize=(20, 15))\n",
    "correlation_matrix = df.drop(columns=['customerID']).corr() # Excluímos 'customerID' da correlação\n",
    "sns.heatmap(correlation_matrix, annot=False, cmap='coolwarm', fmt=\".2f\", linewidths=.5)\n",
    "plt.title('Matriz de Correlação entre as Variáveis')\n",
    "plt.xticks(rotation=90)\n",
    "plt.yticks(rotation=0)\n",
    "plt.tight_layout()\n",
    "plt.show()"
   ]
  }
 ],
 "metadata": {
  "kernelspec": {
   "display_name": ".venv",
   "language": "python",
   "name": "python3"
  },
  "language_info": {
   "codemirror_mode": {
    "name": "ipython",
    "version": 3
   },
   "file_extension": ".py",
   "mimetype": "text/x-python",
   "name": "python",
   "nbconvert_exporter": "python",
   "pygments_lexer": "ipython3",
   "version": "3.11.9"
  }
 },
 "nbformat": 4,
 "nbformat_minor": 5
}
