{
 "cells": [
  {
   "cell_type": "markdown",
   "id": "991e781c",
   "metadata": {},
   "source": [
    "## Trabalho de IA - Previsão de Churn e Segmentação de Clientes em Telecom"
   ]
  },
  {
   "cell_type": "markdown",
   "id": "97d699c5",
   "metadata": {},
   "source": [
    "### 4.1 Etapa 1: Coleta, Limpeza e EDA\n",
    "1. Importar o CSV no Pandas, verificar estatísticas básicas (.describe(), .info())."
   ]
  },
  {
   "cell_type": "code",
   "execution_count": null,
   "id": "f3724a99",
   "metadata": {},
   "outputs": [],
   "source": [
    "# 1. Importar Pandas e Numpy e em seguida importar o CSV no Pandas\n",
    "\n",
    "import pandas as pd\n",
    "\n",
    "try:\n",
    "    df = pd.read_csv(\"../data/WA_Fn-UseC_-Telco-Customer-Churn.csv\")\n",
    "except Exception as e:\n",
    "    print(f\"Erro ao importar o dataset: {e}\")\n",
    "    exit()\n",
    "\n",
    "df.head()"
   ]
  },
  {
   "cell_type": "code",
   "execution_count": null,
   "id": "8752bce2",
   "metadata": {},
   "outputs": [],
   "source": [
    "# Verificar estatísticas\n",
    "print(\"\\n Informações do DataFrame (.info()) \")\n",
    "df.info()"
   ]
  },
  {
   "cell_type": "code",
   "execution_count": null,
   "id": "3fbe988d",
   "metadata": {},
   "outputs": [],
   "source": [
    "print(\"\\n Estatísticas Descritivas (.describe()) \")\n",
    "# Incluir colunas de objetos para uma visão mais completa\n",
    "df.describe(include='all')"
   ]
  },
  {
   "cell_type": "markdown",
   "id": "fabea903",
   "metadata": {},
   "source": [
    " 2. Tratar valores faltantes e inconsistências"
   ]
  },
  {
   "cell_type": "code",
   "execution_count": null,
   "id": "d835f119",
   "metadata": {},
   "outputs": [],
   "source": [
    "# A coluna 'TotalCharges' é do tipo 'object'(string) mas deveria ser numérica.\n",
    "# Pode haver espaços em branco que precisam ser tratados e convertidos para numérico.\n",
    "\n",
    "print(\"\\n Verificando valores únicos em colunas categóricas \")\n",
    "for column in df.columns:\n",
    "    if df[column].dtype == 'object':\n",
    "        print(f\"\\nColuna '{column}':\")\n",
    "        print(df[column].value_counts())"
   ]
  },
  {
   "cell_type": "code",
   "execution_count": null,
   "id": "045b11bd",
   "metadata": {},
   "outputs": [],
   "source": [
    "# Tratamento da coluna 'TotalCharges'\n",
    "# Convertendo 'TotalCharges' para numérico, tratando erros com 'coerce' (transforma em NaN)\n",
    "print(\"\\n Tratando a coluna 'TotalCharges' \")\n",
    "df['TotalCharges'] = pd.to_numeric(df['TotalCharges'], errors='coerce')\n",
    "\n",
    "print(df['TotalCharges'])"
   ]
  },
  {
   "cell_type": "code",
   "execution_count": null,
   "id": "b59eeaa3",
   "metadata": {},
   "outputs": [],
   "source": [
    "# Preencher valores faltantes na coluna 'TotalCharges'\n",
    "# Para esses caso, vamos preencher com 0, pois representa novos clientes.\n",
    "df['TotalCharges'].fillna(0, inplace=True)"
   ]
  },
  {
   "cell_type": "code",
   "execution_count": null,
   "id": "749011c8",
   "metadata": {},
   "outputs": [],
   "source": [
    "# Verificação final de valores faltantes\n",
    "print(\"\\n Verificação final de valores faltantes \")\n",
    "print(df.isnull().sum())"
   ]
  },
  {
   "cell_type": "markdown",
   "id": "2b2e6ea1",
   "metadata": {},
   "source": [
    "Tratamento de outras inconsistências (se houver, baseado nas value_counts)\n",
    "Exemplo: Se 'No phone service' ou 'No internet service' fossem tratados de forma diferente ou se houvesse algum erro de digitação. No dataset Telco Churn, essas são categorias válidas."
   ]
  },
  {
   "cell_type": "code",
   "execution_count": null,
   "id": "c0d08115",
   "metadata": {},
   "outputs": [],
   "source": [
    "# Convertendo a coluna 'Churn' para valores binários (0 e 1)\n",
    "print(\"\\n Convertendo 'Churn' para valores binários (0 e 1) \")\n",
    "df['Churn'] = df['Churn'].map({'Yes': 1, 'No': 0})\n",
    "print(df['Churn'].value_counts())"
   ]
  },
  {
   "cell_type": "code",
   "execution_count": null,
   "id": "4e079330",
   "metadata": {},
   "outputs": [],
   "source": [
    "print(\"\\n DataFrame após tratamento \")\n",
    "df.info()\n",
    "print(df.describe(include='all'))\n",
    "df.head()"
   ]
  },
  {
   "cell_type": "markdown",
   "id": "dc8513c3",
   "metadata": {},
   "source": [
    "3.  Converter variáveis categóricas via One-Hot Encoding"
   ]
  },
  {
   "cell_type": "code",
   "execution_count": null,
   "id": "50432a11",
   "metadata": {},
   "outputs": [],
   "source": [
    "print(\"\\n Realizando One-Hot Encoding em variáveis categóricas \")\n",
    "\n",
    "# Identificar colunas categóricas para OneHot Encoding\n",
    "# Excluímos 'customerID' porque é um identificador e 'Churn' porque já foi convertida para numérica.\n",
    "categorical_cols = [col for col in df.columns if df[col].dtype == 'object' and col != 'customerID']"
   ]
  },
  {
   "cell_type": "code",
   "execution_count": null,
   "id": "ee76b464",
   "metadata": {},
   "outputs": [],
   "source": [
    "# Aplicar One-Hot Encoding usando pd.get_dummies\n",
    "# 'drop_first=True' é usado para evitar a armadilha da variável dummy, removendo a primeira categoria de cada coluna.\n",
    "df = pd.get_dummies(df, columns=categorical_cols, drop_first=True)\n"
   ]
  },
  {
   "cell_type": "code",
   "execution_count": null,
   "id": "61ac845b",
   "metadata": {},
   "outputs": [],
   "source": [
    "#Após a utilização do OneHot Enconding, pegaremos as colunas do tipo booleano e convertemos e converteremos para colunas numéricas.\n",
    "\n",
    "print(\"\\n Convertendo colunas booleanas (True/False) para 0 e 1 \")\n",
    "for column in df.columns:\n",
    "    if df[column].dtype == bool:\n",
    "        df[column] = df[column].astype(int)\n",
    "        print(f\"Coluna '{column}' convertida de booleano para int (0/1).\")\n",
    "\n",
    "print(\"\\n DataFrame após OneHot Encoding \")\n",
    "df.head()"
   ]
  },
  {
   "cell_type": "code",
   "execution_count": null,
   "id": "467d8021",
   "metadata": {},
   "outputs": [],
   "source": [
    "df.info()\n",
    "print(df.describe(include='all'))"
   ]
  }
 ],
 "metadata": {
  "kernelspec": {
   "display_name": "Python 3",
   "language": "python",
   "name": "python3"
  },
  "language_info": {
   "codemirror_mode": {
    "name": "ipython",
    "version": 3
   },
   "file_extension": ".py",
   "mimetype": "text/x-python",
   "name": "python",
   "nbconvert_exporter": "python",
   "pygments_lexer": "ipython3",
   "version": "3.11.9"
  }
 },
 "nbformat": 4,
 "nbformat_minor": 5
}
